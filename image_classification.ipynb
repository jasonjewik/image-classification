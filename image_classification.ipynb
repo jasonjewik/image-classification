{
 "cells": [
  {
   "cell_type": "markdown",
   "id": "f492f21e-6aad-479f-9df6-f0b7a5034f10",
   "metadata": {},
   "source": [
    "# Introduction to Image Classification with Convolutional Neural Networks\n",
    "\n",
    "In this notebook, we're going to classify some images of hats, cups, donuts, and plus-signs. I assume the reader is familiar with Python programming."
   ]
  },
  {
   "cell_type": "markdown",
   "id": "a784c669-45e3-442a-b0f9-846dd0091bed",
   "metadata": {},
   "source": [
    "## Setup\n",
    "\n",
    "First, let's import the libraries we're going to need."
   ]
  },
  {
   "cell_type": "code",
   "execution_count": 1,
   "id": "f8b3658f-b184-4c42-b3ce-4788146ca15d",
   "metadata": {
    "tags": []
   },
   "outputs": [],
   "source": [
    "# PyTorch is a library for machine learning with deep neural networks\n",
    "import torch\n",
    "import torch.nn as nn\n",
    "import torch.optim as optim\n",
    "from torch.utils.data import Dataset, DataLoader\n",
    "\n",
    "# NumPy is a library for doing mathematics\n",
    "import numpy as np\n",
    "\n",
    "# Matplotlib is a library for plotting and visualizations\n",
    "import matplotlib.pyplot as plt\n",
    "\n",
    "# tqdm is a library for progress bars\n",
    "from tqdm import tqdm, trange"
   ]
  },
  {
   "cell_type": "markdown",
   "id": "a565d974-31cd-4d4e-af45-baabb07cab72",
   "metadata": {},
   "source": [
    "First, I define a function that can draw pictures of the images we want to classify. These pictures are really simple: they're grayscale and they're only 5 pixels by 5 pixels. However, we can vary the position of the object in the picture by setting `random_pos` to `True`. We can also add some \"noise\" (imagine that we're looking at something through a dusty camera lens) by setting `random_noise` to some small, non-zero number like $3\\times10^{-2}$.\n",
    "\n",
    "We'll find that our convolutoinal neural network (CNN) can classify the images really easily if we don't vary the position or add any noise. But changing just one of these--or even both--can cause some trouble!"
   ]
  },
  {
   "cell_type": "code",
   "execution_count": 2,
   "id": "b9abd956-50e9-4d50-8249-393b6f221745",
   "metadata": {
    "tags": []
   },
   "outputs": [],
   "source": [
    "def draw_picture(item, random_pos=True, random_noise=3e-2):\n",
    "    if item == \"hat\":\n",
    "        pic = torch.tensor([\n",
    "            [0, 0, 0, 0, 0],\n",
    "            [0, 1, 1, 0, 0],\n",
    "            [0, 1, 1, 0, 0],\n",
    "            [1, 1, 1, 1, 0],\n",
    "            [0, 0, 0, 0, 0]\n",
    "        ], dtype=torch.float)\n",
    "    elif item == \"cup\":\n",
    "        pic = torch.tensor([\n",
    "            [0, 0, 0, 0, 0],\n",
    "            [0, 1, 0, 1, 0],\n",
    "            [0, 1, 0, 1, 0],\n",
    "            [0, 1, 1, 1, 0],\n",
    "            [0, 0, 0, 0, 0]\n",
    "        ], dtype=torch.float)\n",
    "    elif item == \"donut\":\n",
    "        pic = torch.tensor([\n",
    "            [0, 0, 0, 0, 0],\n",
    "            [0, 1, 1, 1, 0],\n",
    "            [0, 1, 0, 1, 0],\n",
    "            [0, 1, 1, 1, 0],\n",
    "            [0, 0, 0, 0, 0]\n",
    "        ], dtype=torch.float)\n",
    "    elif item == \"plus\":\n",
    "        pic = torch.tensor([\n",
    "            [0, 0, 0, 0, 0],\n",
    "            [0, 0, 1, 0, 0],\n",
    "            [0, 1, 1, 1, 0],\n",
    "            [0, 0, 1, 0, 0],\n",
    "            [0, 0, 0, 0, 0]\n",
    "        ], dtype=torch.float)\n",
    "    else:\n",
    "        raise NotImplementedError(\"item is not recognized\")\n",
    "    if random_pos:\n",
    "        dice = np.random.randint(4)\n",
    "        if dice == 1:\n",
    "            pic = torch.cat((torch.zeros((5,1)), pic[:,:4]), dim=1)\n",
    "        elif dice == 2:\n",
    "            pic = torch.cat((torch.zeros((1,5)), pic[:4,:]), dim=0)\n",
    "        elif dice == 3:\n",
    "            pic = torch.cat((pic[1:,:], torch.zeros((1,5))), dim=0)\n",
    "        if np.random.randint(2) == 1:\n",
    "            pic = pic.flip(1)\n",
    "        if np.random.randint(2) == 1:\n",
    "            pic = pic.flip(0)\n",
    "    if random_noise != 0:\n",
    "        noise = torch.randn((5,5)) * random_noise\n",
    "        pic += noise\n",
    "    pic = pic.unsqueeze(0)\n",
    "    return pic"
   ]
  },
  {
   "cell_type": "markdown",
   "id": "d67b60c2-f44a-4a39-a610-9923d11cfe1d",
   "metadata": {},
   "source": [
    "You can run the below cell a couple times to see some example images."
   ]
  },
  {
   "cell_type": "code",
   "execution_count": 3,
   "id": "40cbb37b-fb55-4f6d-9bc3-4f99a00de262",
   "metadata": {
    "tags": []
   },
   "outputs": [
    {
     "data": {
      "image/png": "[encoded data removed]",
      "text/plain": [
       "<Figure size 640x480 with 1 Axes>"
      ]
     },
     "metadata": {},
     "output_type": "display_data"
    }
   ],
   "source": [
    "random_pos = False  # CHANGE ME\n",
    "noise = 0.0         # CHANGE ME\n",
    "\n",
    "classes = [\"hat\", \"cup\", \"donut\", \"plus\"]\n",
    "fig, ax = plt.subplots()\n",
    "subject = classes[np.random.choice(len(classes))]\n",
    "ax.set_title(f\"Image: {subject}\")\n",
    "ax.imshow(draw_picture(subject, random_pos, noise).view(5, 5, 1), cmap=\"gray\")\n",
    "plt.show()"
   ]
  },
  {
   "cell_type": "markdown",
   "id": "84d47d7b-e546-4077-9578-262e7d8eadc0",
   "metadata": {},
   "source": [
    "Now, we'll define a dataset of these images. If you are interested, I left some comments to explain what's going on, but feel free to skip the details here."
   ]
  },
  {
   "cell_type": "code",
   "execution_count": 4,
   "id": "df91f16f-1fea-4f98-8c2e-5fc07031e42a",
   "metadata": {
    "tags": []
   },
   "outputs": [],
   "source": [
    "class ImageDataset(Dataset):\n",
    "    def __init__(self, n=1024, random_pos=True, random_noise=3e-2):\n",
    "        super().__init__()        \n",
    "        # Generate a bunch of random labels\n",
    "        labels = torch.randn(n)\n",
    "        labels[0.5 <= labels] = 3\n",
    "        labels[(0 <= labels) & (labels < 0.5)] = 2\n",
    "        labels[(-0.5 <= labels) & (labels < 0)] = 1\n",
    "        labels[labels < -0.5] = 0\n",
    "        labels = labels.to(int)\n",
    "        # Generate the corresponding pictures\n",
    "        dataset = torch.stack([\n",
    "            draw_picture(classes[label], random_pos, random_noise)\n",
    "            for label in labels\n",
    "        ])\n",
    "        # Normalize the data\n",
    "        dataset = (dataset - torch.mean(dataset)) / torch.std(dataset)\n",
    "        self.dataset = dataset\n",
    "        self.classes = classes\n",
    "        self.labels = labels\n",
    "        self.n = n\n",
    "        \n",
    "    def __len__(self):\n",
    "        return self.n\n",
    "    \n",
    "    def __getitem__(self, idx):\n",
    "        x = self.dataset[idx]\n",
    "        y = self.labels[idx]\n",
    "        return x, y"
   ]
  },
  {
   "cell_type": "markdown",
   "id": "7ae5f780-c27e-4793-abb9-859fada7955e",
   "metadata": {},
   "source": [
    "Next, let's define a super simple CNN. This is just one convolutional layer, followed by a max pool layer, then a single linear layer. I don't use any activation functions."
   ]
  },
  {
   "cell_type": "code",
   "execution_count": 5,
   "id": "92259f1b-9c98-47d9-895b-38cc5e85a5f0",
   "metadata": {
    "tags": []
   },
   "outputs": [],
   "source": [
    "class Net(nn.Module):\n",
    "    def __init__(self):\n",
    "        super().__init__()\n",
    "        self.conv = nn.Conv2d(1, 8, 3)\n",
    "        self.pool = nn.MaxPool2d(3)\n",
    "        self.flatten = nn.Flatten()\n",
    "        self.linear = nn.Linear(8, 4)\n",
    "        \n",
    "    def forward(self, x):\n",
    "        h = self.conv(x)\n",
    "        h = self.pool(h)\n",
    "        h = self.linear(self.flatten(h))\n",
    "        return h"
   ]
  },
  {
   "cell_type": "markdown",
   "id": "abaff1aa-cd0c-4d02-ba22-dc88751e105c",
   "metadata": {},
   "source": [
    "# Simplest problem\n",
    "Let's create a dataset and a network. In this case, the positions of the objects in the pictures are fixed, and there is no noise."
   ]
  },
  {
   "cell_type": "code",
   "execution_count": 6,
   "id": "5e32ce33-1ad3-41ce-b9cb-5c3f8995578a",
   "metadata": {
    "tags": []
   },
   "outputs": [],
   "source": [
    "dataset = ImageDataset(2**10, False, 0)\n",
    "dataloader = DataLoader(dataset, 64, shuffle=True)\n",
    "net = Net()\n",
    "\n",
    "# To optimize the neural network, I am using an algorithm called \"stochastic gradient descent\".\n",
    "# Read more: https://en.wikipedia.org/wiki/Stochastic_gradient_descent\n",
    "optimizer = optim.SGD(net.parameters(), 1e-3, momentum=0.9, weight_decay=0.1, nesterov=True)\n",
    "\n",
    "# To judge how \"good\" the neural network is, I am using a function called \"cross entropy loss\".\n",
    "# Read more: https://en.wikipedia.org/wiki/Cross_entropy\n",
    "criterion = nn.CrossEntropyLoss()"
   ]
  },
  {
   "cell_type": "markdown",
   "id": "93d3a6e0-9f7c-4e4a-9107-8b841de2ecd4",
   "metadata": {},
   "source": [
    "Then we can train the neural network."
   ]
  },
  {
   "cell_type": "code",
   "execution_count": 7,
   "id": "b6808543-1abe-4899-b34a-8f80e4ad80fc",
   "metadata": {
    "tags": []
   },
   "outputs": [],
   "source": [
    "def train(net, dataloader, num_epochs=20):\n",
    "    for epoch in trange(num_epochs):\n",
    "        for batch in dataloader:\n",
    "            x, y = batch[0], batch[1]\n",
    "            optimizer.zero_grad()\n",
    "            yhat = net(x)\n",
    "            loss = criterion(yhat, y)\n",
    "            loss.backward()\n",
    "            optimizer.step()"
   ]
  },
  {
   "cell_type": "code",
   "execution_count": 8,
   "id": "87bad507-ebca-47c6-b060-226180899060",
   "metadata": {
    "tags": []
   },
   "outputs": [
    {
     "name": "stderr",
     "output_type": "stream",
     "text": [
      "100%|██████████████████████████████████████████████████████████████████████████████████████████████████████████████████████████████████████████████████████████████| 20/20 [00:33<00:00,  1.69s/it]\n"
     ]
    }
   ],
   "source": [
    "train(net, dataloader)"
   ]
  },
  {
   "cell_type": "markdown",
   "id": "52635c97-e190-47d5-ad3b-6ceb0011b534",
   "metadata": {},
   "source": [
    "Let's see how it did on some randomly selected data samples."
   ]
  },
  {
   "cell_type": "code",
   "execution_count": 9,
   "id": "dbed9767-f8c2-4d1c-983c-5cdada58e884",
   "metadata": {
    "tags": []
   },
   "outputs": [
    {
     "data": {
      "image/png": "[encoded data removed]",
      "text/plain": [
       "<Figure size 2000x500 with 4 Axes>"
      ]
     },
     "metadata": {},
     "output_type": "display_data"
    }
   ],
   "source": [
    "fig, axes = plt.subplots(1, 4, figsize=(20, 5))\n",
    "\n",
    "indices = torch.randint(len(dataset), (4,))\n",
    "X = dataset[indices][0]\n",
    "Y = dataset[indices][1]\n",
    "yhats = net(X)\n",
    "for i in range(len(indices)):\n",
    "    axes[i].imshow(X[i].view(5, 5, 1), cmap=\"gray\")\n",
    "    axes[i].set_xlabel(f\"Predicted: {dataset.classes[yhats[i].argmax()]}\")"
   ]
  },
  {
   "cell_type": "markdown",
   "id": "06a4062e-f0b9-4126-aa58-8d3655dd7f98",
   "metadata": {},
   "source": [
    "We can check its accuracy too."
   ]
  },
  {
   "cell_type": "code",
   "execution_count": 10,
   "id": "65c1bad5-153b-44c2-9647-3d51dd461bd6",
   "metadata": {
    "tags": []
   },
   "outputs": [],
   "source": [
    "def accuracy(dataset, net):\n",
    "    correct, total = 0, len(dataset)\n",
    "    for x, y in dataset:\n",
    "        yhat = net(x.unsqueeze(0))\n",
    "        if yhat.argmax() == y:\n",
    "            correct += 1\n",
    "    return correct / total"
   ]
  },
  {
   "cell_type": "code",
   "execution_count": 11,
   "id": "5c61f45d-d57b-4d93-8377-eb283e981c4e",
   "metadata": {
    "tags": []
   },
   "outputs": [
    {
     "name": "stdout",
     "output_type": "stream",
     "text": [
      "Accuracy: 1.00\n"
     ]
    }
   ],
   "source": [
    "print(f\"Accuracy: {accuracy(dataset, net):.2f}\")"
   ]
  },
  {
   "cell_type": "markdown",
   "id": "3a7ae97b-79da-4954-9021-c5b05cfe5edc",
   "metadata": {},
   "source": [
    "The neural network got 100% accuracy. That's expected since the problem is so simple. Within a class, every image looks exactly the same. In fact, under this assumption, we could have solved this classification problem by hard-coding the answers!\n",
    "\n",
    "What happens if we give the network an image where the subject is in a different location, or flipped?"
   ]
  },
  {
   "cell_type": "code",
   "execution_count": 12,
   "id": "632fec9e-b2f6-450c-8e0a-3e02b0ea9de7",
   "metadata": {
    "tags": []
   },
   "outputs": [
    {
     "data": {
      "image/png": "[encoded data removed]",
      "text/plain": [
       "<Figure size 640x480 with 1 Axes>"
      ]
     },
     "metadata": {},
     "output_type": "display_data"
    }
   ],
   "source": [
    "test_image1 = torch.tensor([\n",
    "    [0, 0, 1, 1, 0],\n",
    "    [0, 0, 1, 1, 0],\n",
    "    [0, 1, 1, 1, 1],\n",
    "    [0, 0, 0, 0, 0],\n",
    "    [0, 0, 0, 0, 0]\n",
    "], dtype=torch.float)\n",
    "\n",
    "plt.imshow(test_image1.unsqueeze(2), cmap=\"gray\")\n",
    "plt.show()"
   ]
  },
  {
   "cell_type": "code",
   "execution_count": 13,
   "id": "17f80829-3794-4ec4-bea4-ceb1ee2490d7",
   "metadata": {
    "tags": []
   },
   "outputs": [
    {
     "data": {
      "text/plain": [
       "'cup'"
      ]
     },
     "execution_count": 13,
     "metadata": {},
     "output_type": "execute_result"
    }
   ],
   "source": [
    "yhat = net(test_image1.unsqueeze(0).unsqueeze(0))\n",
    "dataset.classes[yhat.argmax()]"
   ]
  },
  {
   "cell_type": "code",
   "execution_count": 14,
   "id": "a0a06669-d69e-4c98-86b8-1446876301b6",
   "metadata": {
    "tags": []
   },
   "outputs": [
    {
     "data": {
      "image/png": "[encoded data removed]",
      "text/plain": [
       "<Figure size 640x480 with 1 Axes>"
      ]
     },
     "metadata": {},
     "output_type": "display_data"
    }
   ],
   "source": [
    "test_image2 = torch.tensor([\n",
    "    [0, 0, 0, 0, 0],\n",
    "    [0, 1, 1, 1, 1],\n",
    "    [0, 0, 1, 1, 0],\n",
    "    [0, 0, 1, 1, 0],\n",
    "    [0, 0, 0, 0, 0]\n",
    "], dtype=torch.float)\n",
    "\n",
    "plt.imshow(test_image2.unsqueeze(2), cmap=\"gray\")\n",
    "plt.show()"
   ]
  },
  {
   "cell_type": "code",
   "execution_count": 15,
   "id": "c3542c99-a2bc-4f76-b6e9-3c2834c72d5e",
   "metadata": {
    "tags": []
   },
   "outputs": [
    {
     "data": {
      "text/plain": [
       "'cup'"
      ]
     },
     "execution_count": 15,
     "metadata": {},
     "output_type": "execute_result"
    }
   ],
   "source": [
    "yhat = net(test_image2.unsqueeze(0).unsqueeze(0))\n",
    "dataset.classes[yhat.argmax()]"
   ]
  },
  {
   "cell_type": "markdown",
   "id": "dfaef09f-4fbf-4c04-ae88-38f92bba8d6a",
   "metadata": {},
   "source": [
    "Clearly that's not good! If we move the hat around or flip it, the neural network is confused!"
   ]
  },
  {
   "cell_type": "markdown",
   "id": "151f3d50-c3e7-40c2-8a98-22e58d655513",
   "metadata": {},
   "source": [
    "## Adding some noise\n",
    "Holding everything else equal, let's see what happens if we add some noise to the images."
   ]
  },
  {
   "cell_type": "code",
   "execution_count": 16,
   "id": "a5a1a3aa-fce0-4c3e-9826-568744f7a8d6",
   "metadata": {
    "tags": []
   },
   "outputs": [
    {
     "name": "stderr",
     "output_type": "stream",
     "text": [
      "100%|██████████████████████████████████████████████████████████████████████████████████████████████████████████████████████████████████████████████████████████████| 20/20 [00:01<00:00, 18.14it/s]\n"
     ]
    }
   ],
   "source": [
    "dataset = ImageDataset(2**10, False, 0.1)\n",
    "dataloader = DataLoader(dataset, 64, shuffle=True)\n",
    "train(net, dataloader)"
   ]
  },
  {
   "cell_type": "code",
   "execution_count": 17,
   "id": "765a5294-001b-4389-824c-d550477ba943",
   "metadata": {
    "tags": []
   },
   "outputs": [
    {
     "data": {
      "image/png": "[encoded data removed]",
      "text/plain": [
       "<Figure size 2000x500 with 4 Axes>"
      ]
     },
     "metadata": {},
     "output_type": "display_data"
    }
   ],
   "source": [
    "fig, axes = plt.subplots(1, 4, figsize=(20, 5))\n",
    "\n",
    "indices = torch.randint(len(dataset), (4,))\n",
    "X = dataset[indices][0]\n",
    "Y = dataset[indices][1]\n",
    "yhats = net(X)\n",
    "for i in range(len(indices)):\n",
    "    axes[i].imshow(X[i].view(5, 5, 1), cmap=\"gray\")\n",
    "    axes[i].set_xlabel(f\"Predicted: {dataset.classes[yhats[i].argmax()]}\")"
   ]
  },
  {
   "cell_type": "code",
   "execution_count": 18,
   "id": "c47afd9f-6cd5-4a82-ad81-b7c3086d7e47",
   "metadata": {
    "tags": []
   },
   "outputs": [
    {
     "name": "stdout",
     "output_type": "stream",
     "text": [
      "Accuracy: 1.00\n"
     ]
    }
   ],
   "source": [
    "print(f\"Accuracy: {accuracy(dataset, net):.2f}\")"
   ]
  },
  {
   "cell_type": "markdown",
   "id": "942da580-0742-4adf-9c7c-4cc3b94e654f",
   "metadata": {},
   "source": [
    "Adding noise distorted the images somewhat, which would make hard-coding a solution a bit more difficult. However, each class is still clearly recognizable. It's not surprising that the neural network still achieved ~100% accuracy. What about images where the subject has moved or is flipped?"
   ]
  },
  {
   "cell_type": "code",
   "execution_count": 19,
   "id": "1a9e0151-517a-46f1-974b-71a504fe420f",
   "metadata": {
    "tags": []
   },
   "outputs": [
    {
     "name": "stdout",
     "output_type": "stream",
     "text": [
      "cup\n",
      "cup\n"
     ]
    }
   ],
   "source": [
    "yhat = net(test_image1.unsqueeze(0).unsqueeze(0))\n",
    "print(dataset.classes[yhat.argmax()])\n",
    "\n",
    "yhat = net(test_image2.unsqueeze(0).unsqueeze(0))\n",
    "print(dataset.classes[yhat.argmax()])"
   ]
  },
  {
   "cell_type": "markdown",
   "id": "ee484259-87b3-4ece-98f7-6bcd844d57ec",
   "metadata": {},
   "source": [
    "Okay, so it didn't help with that."
   ]
  },
  {
   "cell_type": "markdown",
   "id": "6f9093ed-d011-4a4d-af6c-76512f741abc",
   "metadata": {},
   "source": [
    "## Randomizing positions\n",
    "\n",
    "Let's try randomizing positions."
   ]
  },
  {
   "cell_type": "code",
   "execution_count": 20,
   "id": "34509ca8-9594-4c4d-b7c3-5d6b2ca813a3",
   "metadata": {
    "tags": []
   },
   "outputs": [
    {
     "name": "stderr",
     "output_type": "stream",
     "text": [
      "100%|██████████████████████████████████████████████████████████████████████████████████████████████████████████████████████████████████████████████████████████████| 20/20 [00:02<00:00,  8.44it/s]\n"
     ]
    }
   ],
   "source": [
    "dataset = ImageDataset(2**10, True, 0)\n",
    "dataloader = DataLoader(dataset, 64, shuffle=True)\n",
    "train(net, dataloader)"
   ]
  },
  {
   "cell_type": "code",
   "execution_count": 21,
   "id": "a9e8bad1-1536-4e5b-8a3e-97f39e8c8dd6",
   "metadata": {
    "tags": []
   },
   "outputs": [
    {
     "data": {
      "image/png": "[encoded data removed]",
      "text/plain": [
       "<Figure size 2000x500 with 4 Axes>"
      ]
     },
     "metadata": {},
     "output_type": "display_data"
    }
   ],
   "source": [
    "fig, axes = plt.subplots(1, 4, figsize=(20, 5))\n",
    "\n",
    "indices = torch.randint(len(dataset), (4,))\n",
    "X = dataset[indices][0]\n",
    "Y = dataset[indices][1]\n",
    "yhats = net(X)\n",
    "for i in range(len(indices)):\n",
    "    axes[i].imshow(X[i].view(5, 5, 1), cmap=\"gray\")\n",
    "    axes[i].set_xlabel(f\"Predicted: {dataset.classes[yhats[i].argmax()]}\")"
   ]
  },
  {
   "cell_type": "code",
   "execution_count": 22,
   "id": "50817280-cc0c-40f3-9b2b-d54befdd0ed5",
   "metadata": {
    "tags": []
   },
   "outputs": [
    {
     "name": "stdout",
     "output_type": "stream",
     "text": [
      "Accuracy: 0.96\n"
     ]
    }
   ],
   "source": [
    "print(f\"Accuracy: {accuracy(dataset, net):.2f}\")"
   ]
  },
  {
   "cell_type": "markdown",
   "id": "702654ae-2fde-45c4-891d-2a5a45a34090",
   "metadata": {},
   "source": [
    "In some cases, you might see accuracy drop by a decent amount!"
   ]
  },
  {
   "cell_type": "code",
   "execution_count": 23,
   "id": "cedfec26-1fdc-4fb5-b86a-aba89685bffb",
   "metadata": {},
   "outputs": [
    {
     "name": "stdout",
     "output_type": "stream",
     "text": [
      "hat\n",
      "hat\n"
     ]
    }
   ],
   "source": [
    "yhat = net(test_image1.unsqueeze(0).unsqueeze(0))\n",
    "print(dataset.classes[yhat.argmax()])\n",
    "\n",
    "yhat = net(test_image2.unsqueeze(0).unsqueeze(0))\n",
    "print(dataset.classes[yhat.argmax()])"
   ]
  },
  {
   "cell_type": "markdown",
   "id": "2d1e2595-323c-431e-8a2c-1a55189a8a20",
   "metadata": {},
   "source": [
    "Hey it helped!"
   ]
  },
  {
   "cell_type": "markdown",
   "id": "f5b973e4-89e5-49ef-a0c6-ecee3992dca6",
   "metadata": {},
   "source": [
    "## Noise and random positions\n",
    "What happens if we combine both effects?"
   ]
  },
  {
   "cell_type": "code",
   "execution_count": 24,
   "id": "ec4d170a-2c2d-484e-9f6f-6ae3195fa579",
   "metadata": {
    "tags": []
   },
   "outputs": [
    {
     "name": "stderr",
     "output_type": "stream",
     "text": [
      "100%|██████████████████████████████████████████████████████████████████████████████████████████████████████████████████████████████████████████████████████████████| 20/20 [00:01<00:00, 10.64it/s]\n"
     ]
    }
   ],
   "source": [
    "dataset = ImageDataset(2**10, True, 0.1)\n",
    "dataloader = DataLoader(dataset, 64, shuffle=True)\n",
    "train(net, dataloader)"
   ]
  },
  {
   "cell_type": "code",
   "execution_count": 25,
   "id": "a92a7baf-513a-4de0-ae82-f52fe3b137ca",
   "metadata": {
    "tags": []
   },
   "outputs": [
    {
     "data": {
      "image/png": "[encoded data removed]",
      "text/plain": [
       "<Figure size 2000x500 with 4 Axes>"
      ]
     },
     "metadata": {},
     "output_type": "display_data"
    }
   ],
   "source": [
    "fig, axes = plt.subplots(1, 4, figsize=(20, 5))\n",
    "\n",
    "indices = torch.randint(len(dataset), (4,))\n",
    "X = dataset[indices][0]\n",
    "Y = dataset[indices][1]\n",
    "yhats = net(X)\n",
    "for i in range(len(indices)):\n",
    "    axes[i].imshow(X[i].view(5, 5, 1), cmap=\"gray\")\n",
    "    axes[i].set_xlabel(f\"Predicted: {dataset.classes[yhats[i].argmax()]}\")"
   ]
  },
  {
   "cell_type": "code",
   "execution_count": 26,
   "id": "be56b490-a703-45dc-8739-df2e0953e9b2",
   "metadata": {
    "tags": []
   },
   "outputs": [
    {
     "name": "stdout",
     "output_type": "stream",
     "text": [
      "Accuracy: 0.96\n"
     ]
    }
   ],
   "source": [
    "print(f\"Accuracy: {accuracy(dataset, net):.2f}\")"
   ]
  },
  {
   "cell_type": "markdown",
   "id": "ee15ec5b-9963-4aee-8622-3d509f456f7b",
   "metadata": {},
   "source": [
    "Predictably, it's about the same as if we only randomized positions. A more interesting case study for noise would be on larger images, where we can have more variation on what each image in a class looks like."
   ]
  },
  {
   "cell_type": "code",
   "execution_count": 27,
   "id": "3313fef9-8f9f-4e3a-8aa7-514068bfa96d",
   "metadata": {
    "tags": []
   },
   "outputs": [
    {
     "name": "stdout",
     "output_type": "stream",
     "text": [
      "hat\n",
      "hat\n"
     ]
    }
   ],
   "source": [
    "yhat = net(test_image1.unsqueeze(0).unsqueeze(0))\n",
    "print(dataset.classes[yhat.argmax()])\n",
    "\n",
    "yhat = net(test_image2.unsqueeze(0).unsqueeze(0))\n",
    "print(dataset.classes[yhat.argmax()])"
   ]
  }
 ],
 "metadata": {
  "kernelspec": {
   "display_name": "climate",
   "language": "python",
   "name": "climate"
  },
  "language_info": {
   "codemirror_mode": {
    "name": "ipython",
    "version": 3
   },
   "file_extension": ".py",
   "mimetype": "text/x-python",
   "name": "python",
   "nbconvert_exporter": "python",
   "pygments_lexer": "ipython3",
   "version": "3.10.9"
  }
 },
 "nbformat": 4,
 "nbformat_minor": 5
}
